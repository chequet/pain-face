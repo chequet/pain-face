{
 "cells": [
  {
   "cell_type": "code",
   "execution_count": 10,
   "metadata": {},
   "outputs": [],
   "source": [
    "from AAM import generate_capp\n",
    "from sklearn import svm\n",
    "import numpy as np"
   ]
  },
  {
   "cell_type": "code",
   "execution_count": 8,
   "metadata": {},
   "outputs": [
    {
     "name": "stdout",
     "output_type": "stream",
     "text": [
      "Found 162 assets, index the returned LazyList to import.\n",
      "Found 72 assets, index the returned LazyList to import.\n",
      "Found 174 assets, index the returned LazyList to import.\n",
      "Found 96 assets, index the returned LazyList to import.\n",
      "Found 111 assets, index the returned LazyList to import.\n",
      "Found 231 assets, index the returned LazyList to import.\n",
      "Found 48 assets, index the returned LazyList to import.\n",
      "- Computing reference shape                                                     Computing batch 0\n",
      "- Building modelsges size: [==========] 100% (894/894) - done.                  \n",
      "  - Scale 0: Warping images: [          ] 8% (72/894) - 00:00:01 remaining      ining"
     ]
    },
    {
     "name": "stderr",
     "output_type": "stream",
     "text": [
      "/home/ch283/anaconda3/envs/menpo/lib/python3.5/site-packages/menpofit/builder.py:338: MenpoFitModelBuilderWarning: The reference shape passed is not a TriMesh or subclass and therefore the reference frame (mask) will be calculated via a Delaunay triangulation. This may cause small triangles and thus suboptimal warps.\n",
      "  MenpoFitModelBuilderWarning)\n",
      "/home/ch283/anaconda3/envs/menpo/lib/python3.5/site-packages/menpo/image/boolean.py:711: FutureWarning: Using a non-tuple sequence for multidimensional indexing is deprecated; use `arr[tuple(seq)]` instead of `arr[seq]`. In the future this will be interpreted as an array index, `arr[np.array(seq)]`, which will result either in an error or a different result.\n",
      "  copy.pixels[slices].flat = point_in_pointcloud(pointcloud, indices)\n"
     ]
    },
    {
     "name": "stdout",
     "output_type": "stream",
     "text": [
      "  - Scale 0: Doneding appearance model                                          \n",
      "  - Scale 1: Doneding appearance model                                          \n",
      "                                                              "
     ]
    }
   ],
   "source": [
    "capp = generate_capp('/Data/Images/048-aa048/')"
   ]
  },
  {
   "cell_type": "code",
   "execution_count": 13,
   "metadata": {},
   "outputs": [],
   "source": [
    "# normalise canonical appearance model vector\n",
    "capp = capp/(np.max(capp))"
   ]
  },
  {
   "cell_type": "code",
   "execution_count": 16,
   "metadata": {},
   "outputs": [
    {
     "data": {
      "text/plain": [
       "70096"
      ]
     },
     "execution_count": 16,
     "metadata": {},
     "output_type": "execute_result"
    }
   ],
   "source": [
    "len(capp)"
   ]
  },
  {
   "cell_type": "code",
   "execution_count": null,
   "metadata": {},
   "outputs": [],
   "source": []
  }
 ],
 "metadata": {
  "kernelspec": {
   "display_name": "Python 3",
   "language": "python",
   "name": "python3"
  },
  "language_info": {
   "codemirror_mode": {
    "name": "ipython",
    "version": 3
   },
   "file_extension": ".py",
   "mimetype": "text/x-python",
   "name": "python",
   "nbconvert_exporter": "python",
   "pygments_lexer": "ipython3",
   "version": "3.5.5"
  }
 },
 "nbformat": 4,
 "nbformat_minor": 2
}
