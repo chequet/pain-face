{
 "cells": [
  {
   "cell_type": "code",
   "execution_count": 1,
   "metadata": {},
   "outputs": [],
   "source": [
    "import warnings\n",
    "warnings.filterwarnings(\"ignore\", message=\"numpy.dtype size changed\")\n",
    "warnings.filterwarnings(\"ignore\", message=\"numpy.ufunc size changed\")\n",
    "from AAM import generate_capp, AAMfitter, generate_normcapps\n",
    "from setup import splitData\n",
    "from sklearn import svm\n",
    "import numpy as np\n",
    "import menpo.io as mio\n",
    "%matplotlib inline\n"
   ]
  },
  {
   "cell_type": "code",
   "execution_count": 2,
   "metadata": {},
   "outputs": [],
   "source": [
    "#tr, trl, tst, tstl, aam = splitData('/Data/Images/')\n",
    "tr = mio.import_pickle('svm_train.pkl')\n",
    "trl = mio.import_pickle('svm_trainlab.pkl')\n",
    "tst = mio.import_pickle('svm_tst.pkl')\n",
    "tstl = mio.import_pickle('svm_tstlab.pkl')\n",
    "aam = mio.import_pickle('aam_train.pkl')\n",
    "fitter = mio.import_pickle('fitter.pkl')\n"
   ]
  },
  {
   "cell_type": "code",
   "execution_count": 23,
   "metadata": {},
   "outputs": [],
   "source": [
    "# mio.export_pickle(tr,'svm_train.pkl', overwrite=True)\n",
    "# mio.export_pickle(trl,'svm_trainlab.pkl',overwrite=True)\n",
    "# mio.export_pickle(tst,'svm_tst.pkl',overwrite=True)\n",
    "# mio.export_pickle(tstl,'svm_tstlab.pkl',overwrite=True)\n",
    "# mio.export_pickle(aam,'aam_train.pkl',overwrite=True)"
   ]
  },
  {
   "cell_type": "code",
   "execution_count": 24,
   "metadata": {},
   "outputs": [],
   "source": [
    "# from menpofit.aam import HolisticAAM\n",
    "# fitter = AAMfitter(aam, HolisticAAM)"
   ]
  },
  {
   "cell_type": "code",
   "execution_count": 3,
   "metadata": {},
   "outputs": [
    {
     "name": "stdout",
     "output_type": "stream",
     "text": [
      "Generating canonical appearance vectors...\n",
      "[                    ] 0% 2849/9663 "
     ]
    }
   ],
   "source": [
    "# mio.export_pickle(fitter,'fitter.pkl')\n",
    "traincapps, trainerrors = generate_normcapps(fitter,tr,2000,2850,'/home/ch283/pain-face-master/traincapps/')\n",
    "#mio.export_pickle(traincapps,'traincapps.pkl',overwrite=True)\n",
    "#mio.export_pickle(trainerrors, 'trainerrors.pkl',overwrite=True)\n"
   ]
  },
  {
   "cell_type": "code",
   "execution_count": 4,
   "metadata": {},
   "outputs": [
    {
     "name": "stdout",
     "output_type": "stream",
     "text": [
      "Generating canonical appearance vectors...\n",
      "[                    ] 0% 2270/4921 failed to generate capp for image 2271\n",
      "list index out of range\n",
      "[                    ] 0% 2362/4921 failed to generate capp for image 2363\n",
      "list index out of range\n",
      "[                    ] 0% 2368/4921 failed to generate capp for image 2369\n",
      "list index out of range\n",
      "failed to generate capp for image 2370\n",
      "list index out of range\n",
      "failed to generate capp for image 2371\n",
      "list index out of range\n",
      "[                    ] 0% 2502/4921 failed to generate capp for image 2503\n",
      "list index out of range\n",
      "[                    ] 0% 2955/4921 failed to generate capp for image 2956\n",
      "list index out of range\n",
      "[                    ] 0% 2963/4921 failed to generate capp for image 2964\n",
      "list index out of range\n",
      "[                    ] 0% 3096/4921 "
     ]
    },
    {
     "ename": "KeyboardInterrupt",
     "evalue": "",
     "output_type": "error",
     "traceback": [
      "\u001b[0;31m---------------------------------------------------------------------------\u001b[0m",
      "\u001b[0;31mKeyboardInterrupt\u001b[0m                         Traceback (most recent call last)",
      "\u001b[0;32m<ipython-input-4-4a22a514f043>\u001b[0m in \u001b[0;36m<module>\u001b[0;34m()\u001b[0m\n\u001b[0;32m----> 1\u001b[0;31m \u001b[0mtestcapps\u001b[0m\u001b[0;34m,\u001b[0m \u001b[0mtesterrs\u001b[0m \u001b[0;34m=\u001b[0m \u001b[0mgenerate_normcapps\u001b[0m\u001b[0;34m(\u001b[0m\u001b[0mfitter\u001b[0m\u001b[0;34m,\u001b[0m\u001b[0mtst\u001b[0m\u001b[0;34m,\u001b[0m\u001b[0;36m2000\u001b[0m\u001b[0;34m,\u001b[0m\u001b[0mlen\u001b[0m\u001b[0;34m(\u001b[0m\u001b[0mtst\u001b[0m\u001b[0;34m)\u001b[0m\u001b[0;34m,\u001b[0m\u001b[0;34m'/home/ch283/pain-face-master/testcapps/'\u001b[0m\u001b[0;34m)\u001b[0m\u001b[0;34m\u001b[0m\u001b[0m\n\u001b[0m\u001b[1;32m      2\u001b[0m \u001b[0;31m#trlab = [trl[i] for i in range(len(trl)) if i not in trainerrors]\u001b[0m\u001b[0;34m\u001b[0m\u001b[0;34m\u001b[0m\u001b[0m\n\u001b[1;32m      3\u001b[0m \u001b[0;31m#tstlab = [tstl[i] for i in range(len(tstl)) if i not in testerrs]\u001b[0m\u001b[0;34m\u001b[0m\u001b[0;34m\u001b[0m\u001b[0m\n\u001b[1;32m      4\u001b[0m \u001b[0;31m#mio.export_pickle(testcapps,'testcapps.pkl',overwrite=True)\u001b[0m\u001b[0;34m\u001b[0m\u001b[0;34m\u001b[0m\u001b[0m\n\u001b[1;32m      5\u001b[0m \u001b[0;31m#mio.export_pickle(testerrs,'testerrors.pkl',overwrite=True)\u001b[0m\u001b[0;34m\u001b[0m\u001b[0;34m\u001b[0m\u001b[0m\n",
      "\u001b[0;32m~/pain-face-master/AAM.py\u001b[0m in \u001b[0;36mgenerate_normcapps\u001b[0;34m(fitter, training_images, start, stop, path)\u001b[0m\n\u001b[1;32m     52\u001b[0m                         \u001b[0mimg\u001b[0m \u001b[0;34m=\u001b[0m \u001b[0mtraining_images\u001b[0m\u001b[0;34m[\u001b[0m\u001b[0mi\u001b[0m\u001b[0;34m]\u001b[0m\u001b[0;34m\u001b[0m\u001b[0m\n\u001b[1;32m     53\u001b[0m                         \u001b[0mj\u001b[0m \u001b[0;34m=\u001b[0m \u001b[0mint\u001b[0m\u001b[0;34m(\u001b[0m\u001b[0;34m(\u001b[0m\u001b[0mi\u001b[0m\u001b[0;34m+\u001b[0m\u001b[0;36m1\u001b[0m\u001b[0;34m)\u001b[0m\u001b[0;34m/\u001b[0m\u001b[0mlen\u001b[0m\u001b[0;34m(\u001b[0m\u001b[0mtraining_images\u001b[0m\u001b[0;34m)\u001b[0m\u001b[0;34m)\u001b[0m\u001b[0;34m\u001b[0m\u001b[0m\n\u001b[0;32m---> 54\u001b[0;31m                         \u001b[0mcapp\u001b[0m \u001b[0;34m=\u001b[0m \u001b[0mgenerate_capp\u001b[0m\u001b[0;34m(\u001b[0m\u001b[0mfitter\u001b[0m\u001b[0;34m,\u001b[0m \u001b[0mimg\u001b[0m\u001b[0;34m)\u001b[0m\u001b[0;34m\u001b[0m\u001b[0m\n\u001b[0m\u001b[1;32m     55\u001b[0m                         \u001b[0;31m# normalise this for classifier input\u001b[0m\u001b[0;34m\u001b[0m\u001b[0;34m\u001b[0m\u001b[0m\n\u001b[1;32m     56\u001b[0m                         \u001b[0mcapp\u001b[0m \u001b[0;34m=\u001b[0m \u001b[0mcapp\u001b[0m\u001b[0;34m/\u001b[0m\u001b[0;34m(\u001b[0m\u001b[0mnp\u001b[0m\u001b[0;34m.\u001b[0m\u001b[0mmax\u001b[0m\u001b[0;34m(\u001b[0m\u001b[0mcapp\u001b[0m\u001b[0;34m)\u001b[0m\u001b[0;34m)\u001b[0m\u001b[0;34m\u001b[0m\u001b[0m\n",
      "\u001b[0;32m~/pain-face-master/AAM.py\u001b[0m in \u001b[0;36mgenerate_capp\u001b[0;34m(fitter, image)\u001b[0m\n\u001b[1;32m     36\u001b[0m         \u001b[0minitial_bbox\u001b[0m \u001b[0;34m=\u001b[0m \u001b[0mbboxes\u001b[0m\u001b[0;34m[\u001b[0m\u001b[0;36m0\u001b[0m\u001b[0;34m]\u001b[0m\u001b[0;34m\u001b[0m\u001b[0m\n\u001b[1;32m     37\u001b[0m         \u001b[0;31m# fit image\u001b[0m\u001b[0;34m\u001b[0m\u001b[0;34m\u001b[0m\u001b[0m\n\u001b[0;32m---> 38\u001b[0;31m         \u001b[0mresult\u001b[0m \u001b[0;34m=\u001b[0m \u001b[0mfitter\u001b[0m\u001b[0;34m.\u001b[0m\u001b[0mfit_from_bb\u001b[0m\u001b[0;34m(\u001b[0m\u001b[0mimage\u001b[0m\u001b[0;34m,\u001b[0m \u001b[0minitial_bbox\u001b[0m\u001b[0;34m,\u001b[0m \u001b[0mmax_iters\u001b[0m\u001b[0;34m=\u001b[0m\u001b[0;34m[\u001b[0m\u001b[0;36m15\u001b[0m\u001b[0;34m,\u001b[0m \u001b[0;36m5\u001b[0m\u001b[0;34m]\u001b[0m\u001b[0;34m)\u001b[0m\u001b[0;34m\u001b[0m\u001b[0m\n\u001b[0m\u001b[1;32m     39\u001b[0m                            \u001b[0;31m# gt_shape=image.landmarks['landmarks'])\u001b[0m\u001b[0;34m\u001b[0m\u001b[0;34m\u001b[0m\u001b[0m\n\u001b[1;32m     40\u001b[0m         \u001b[0;31m# get CAPP from fitter object\u001b[0m\u001b[0;34m\u001b[0m\u001b[0;34m\u001b[0m\u001b[0m\n",
      "\u001b[0;32m~/anaconda3/envs/menpo/lib/python3.5/site-packages/menpofit/fitter.py\u001b[0m in \u001b[0;36mfit_from_bb\u001b[0;34m(self, image, bounding_box, max_iters, gt_shape, return_costs, **kwargs)\u001b[0m\n\u001b[1;32m    649\u001b[0m         return self.fit_from_shape(image=image, initial_shape=initial_shape,\n\u001b[1;32m    650\u001b[0m                                    \u001b[0mmax_iters\u001b[0m\u001b[0;34m=\u001b[0m\u001b[0mmax_iters\u001b[0m\u001b[0;34m,\u001b[0m \u001b[0mgt_shape\u001b[0m\u001b[0;34m=\u001b[0m\u001b[0mgt_shape\u001b[0m\u001b[0;34m,\u001b[0m\u001b[0;34m\u001b[0m\u001b[0m\n\u001b[0;32m--> 651\u001b[0;31m                                    return_costs=return_costs, **kwargs)\n\u001b[0m\u001b[1;32m    652\u001b[0m \u001b[0;34m\u001b[0m\u001b[0m\n\u001b[1;32m    653\u001b[0m \u001b[0;34m\u001b[0m\u001b[0m\n",
      "\u001b[0;32m~/anaconda3/envs/menpo/lib/python3.5/site-packages/menpofit/fitter.py\u001b[0m in \u001b[0;36mfit_from_shape\u001b[0;34m(self, image, initial_shape, max_iters, gt_shape, return_costs, **kwargs)\u001b[0m\n\u001b[1;32m    600\u001b[0m                                       \u001b[0mscale_transforms\u001b[0m\u001b[0;34m=\u001b[0m\u001b[0mscale_transforms\u001b[0m\u001b[0;34m,\u001b[0m\u001b[0;34m\u001b[0m\u001b[0m\n\u001b[1;32m    601\u001b[0m                                       \u001b[0mmax_iters\u001b[0m\u001b[0;34m=\u001b[0m\u001b[0mmax_iters\u001b[0m\u001b[0;34m,\u001b[0m \u001b[0mgt_shapes\u001b[0m\u001b[0;34m=\u001b[0m\u001b[0mgt_shapes\u001b[0m\u001b[0;34m,\u001b[0m\u001b[0;34m\u001b[0m\u001b[0m\n\u001b[0;32m--> 602\u001b[0;31m                                       return_costs=return_costs, **kwargs)\n\u001b[0m\u001b[1;32m    603\u001b[0m \u001b[0;34m\u001b[0m\u001b[0m\n\u001b[1;32m    604\u001b[0m         \u001b[0;31m# Return multi-scale fitting result\u001b[0m\u001b[0;34m\u001b[0m\u001b[0;34m\u001b[0m\u001b[0m\n",
      "\u001b[0;32m~/anaconda3/envs/menpo/lib/python3.5/site-packages/menpofit/fitter.py\u001b[0m in \u001b[0;36m_fit\u001b[0;34m(self, images, initial_shape, affine_transforms, scale_transforms, gt_shapes, max_iters, return_costs, **kwargs)\u001b[0m\n\u001b[1;32m    471\u001b[0m                                                       \u001b[0mmax_iters\u001b[0m\u001b[0;34m=\u001b[0m\u001b[0mmax_iters\u001b[0m\u001b[0;34m[\u001b[0m\u001b[0mi\u001b[0m\u001b[0;34m]\u001b[0m\u001b[0;34m,\u001b[0m\u001b[0;34m\u001b[0m\u001b[0m\n\u001b[1;32m    472\u001b[0m                                                       \u001b[0mreturn_costs\u001b[0m\u001b[0;34m=\u001b[0m\u001b[0mreturn_costs\u001b[0m\u001b[0;34m,\u001b[0m\u001b[0;34m\u001b[0m\u001b[0m\n\u001b[0;32m--> 473\u001b[0;31m                                                       **kwargs)\n\u001b[0m\u001b[1;32m    474\u001b[0m             \u001b[0;31m# Add algorithm result to the list\u001b[0m\u001b[0;34m\u001b[0m\u001b[0;34m\u001b[0m\u001b[0m\n\u001b[1;32m    475\u001b[0m             \u001b[0malgorithm_results\u001b[0m\u001b[0;34m.\u001b[0m\u001b[0mappend\u001b[0m\u001b[0;34m(\u001b[0m\u001b[0malgorithm_result\u001b[0m\u001b[0;34m)\u001b[0m\u001b[0;34m\u001b[0m\u001b[0m\n",
      "\u001b[0;32m~/anaconda3/envs/menpo/lib/python3.5/site-packages/menpofit/aam/algorithm/lk.py\u001b[0m in \u001b[0;36mrun\u001b[0;34m(self, image, initial_shape, gt_shape, max_iters, return_costs, map_inference)\u001b[0m\n\u001b[1;32m   1547\u001b[0m             \u001b[0mJ_m\u001b[0m \u001b[0;34m=\u001b[0m \u001b[0mself\u001b[0m\u001b[0;34m.\u001b[0m\u001b[0m_compute_jacobian\u001b[0m\u001b[0;34m(\u001b[0m\u001b[0;34m)\u001b[0m\u001b[0;34m\u001b[0m\u001b[0m\n\u001b[1;32m   1548\u001b[0m             \u001b[0;31m# project out appearance models\u001b[0m\u001b[0;34m\u001b[0m\u001b[0;34m\u001b[0m\u001b[0m\n\u001b[0;32m-> 1549\u001b[0;31m             \u001b[0mQJ_m\u001b[0m \u001b[0;34m=\u001b[0m \u001b[0mself\u001b[0m\u001b[0;34m.\u001b[0m\u001b[0mproject_out\u001b[0m\u001b[0;34m(\u001b[0m\u001b[0mJ_m\u001b[0m\u001b[0;34m)\u001b[0m\u001b[0;34m\u001b[0m\u001b[0m\n\u001b[0m\u001b[1;32m   1550\u001b[0m             \u001b[0;31m# compute masked Hessian\u001b[0m\u001b[0;34m\u001b[0m\u001b[0;34m\u001b[0m\u001b[0m\n\u001b[1;32m   1551\u001b[0m             \u001b[0mJQJ_m\u001b[0m \u001b[0;34m=\u001b[0m \u001b[0mQJ_m\u001b[0m\u001b[0;34m.\u001b[0m\u001b[0mT\u001b[0m\u001b[0;34m.\u001b[0m\u001b[0mdot\u001b[0m\u001b[0;34m(\u001b[0m\u001b[0mJ_m\u001b[0m\u001b[0;34m)\u001b[0m\u001b[0;34m\u001b[0m\u001b[0m\n",
      "\u001b[0;32m~/anaconda3/envs/menpo/lib/python3.5/site-packages/menpofit/aam/algorithm/lk.py\u001b[0m in \u001b[0;36mproject_out\u001b[0;34m(self, J)\u001b[0m\n\u001b[1;32m   1472\u001b[0m     \u001b[0;32mdef\u001b[0m \u001b[0mproject_out\u001b[0m\u001b[0;34m(\u001b[0m\u001b[0mself\u001b[0m\u001b[0;34m,\u001b[0m \u001b[0mJ\u001b[0m\u001b[0;34m)\u001b[0m\u001b[0;34m:\u001b[0m\u001b[0;34m\u001b[0m\u001b[0m\n\u001b[1;32m   1473\u001b[0m         \u001b[0;31m# project-out appearance bases from a particular vector or matrix\u001b[0m\u001b[0;34m\u001b[0m\u001b[0;34m\u001b[0m\u001b[0m\n\u001b[0;32m-> 1474\u001b[0;31m         \u001b[0;32mreturn\u001b[0m \u001b[0mJ\u001b[0m \u001b[0;34m-\u001b[0m \u001b[0mself\u001b[0m\u001b[0;34m.\u001b[0m\u001b[0mA_m\u001b[0m\u001b[0;34m.\u001b[0m\u001b[0mdot\u001b[0m\u001b[0;34m(\u001b[0m\u001b[0mself\u001b[0m\u001b[0;34m.\u001b[0m\u001b[0mpinv_A_m\u001b[0m\u001b[0;34m.\u001b[0m\u001b[0mdot\u001b[0m\u001b[0;34m(\u001b[0m\u001b[0mJ\u001b[0m\u001b[0;34m)\u001b[0m\u001b[0;34m)\u001b[0m\u001b[0;34m\u001b[0m\u001b[0m\n\u001b[0m\u001b[1;32m   1475\u001b[0m \u001b[0;34m\u001b[0m\u001b[0m\n\u001b[1;32m   1476\u001b[0m     def run(self, image, initial_shape, gt_shape=None, max_iters=20,\n",
      "\u001b[0;31mKeyboardInterrupt\u001b[0m: "
     ]
    }
   ],
   "source": [
    "testcapps, testerrs = generate_normcapps(fitter,tst,2000,len(tst),'/home/ch283/pain-face-master/testcapps/')\n",
    "#trlab = [trl[i] for i in range(len(trl)) if i not in trainerrors]\n",
    "#tstlab = [tstl[i] for i in range(len(tstl)) if i not in testerrs]\n",
    "#mio.export_pickle(testcapps,'testcapps.pkl',overwrite=True)\n",
    "#mio.export_pickle(testerrs,'testerrors.pkl',overwrite=True)"
   ]
  },
  {
   "cell_type": "raw",
   "metadata": {},
   "source": []
  },
  {
   "cell_type": "code",
   "execution_count": 3,
   "metadata": {},
   "outputs": [],
   "source": [
    "traincapps = mio.import_pickles('~/pain-face-master/traincapps/')\n",
    "testcapps = mio.import_pickles('~/pain-face-master/testcapps/')\n",
    "trainerrs = mio.import_pickles('/home/ch283/pain-face-master/trainerrs/')\n",
    "testerrs = mio.import_pickles('/home/ch283/pain-face-master/testcapps/errs/')"
   ]
  },
  {
   "cell_type": "code",
   "execution_count": null,
   "metadata": {},
   "outputs": [],
   "source": []
  },
  {
   "cell_type": "code",
   "execution_count": 4,
   "metadata": {},
   "outputs": [],
   "source": [
    "tstl2 = tstl[2000:3097]\n",
    "trainlabels = [trl[i] for i in range(len(trl)) if i not in trainerrs]\n",
    "testlabels = [tstl2[i] for i in range(len(tstl2)) if i not in testerrs]"
   ]
  },
  {
   "cell_type": "code",
   "execution_count": 6,
   "metadata": {
    "scrolled": true
   },
   "outputs": [
    {
     "data": {
      "text/plain": [
       "72296"
      ]
     },
     "execution_count": 6,
     "metadata": {},
     "output_type": "execute_result"
    }
   ],
   "source": [
    "# clf = svm.SVC(gamma=0.001, C=100.)\n",
    "# clf.fit(traincapps,trainlabels)\n",
    "len(traincapps[0])"
   ]
  },
  {
   "cell_type": "code",
   "execution_count": null,
   "metadata": {},
   "outputs": [],
   "source": [
    "pred = clf.predict(testcapps)\n",
    "from sklearn.metrics import accuracy_score, classification_report\n",
    "accuracy_score(testlabels,pred)\n",
    "classification_report(testlabels,pred)"
   ]
  }
 ],
 "metadata": {
  "kernelspec": {
   "display_name": "Python 3",
   "language": "python",
   "name": "python3"
  },
  "language_info": {
   "codemirror_mode": {
    "name": "ipython",
    "version": 3
   },
   "file_extension": ".py",
   "mimetype": "text/x-python",
   "name": "python",
   "nbconvert_exporter": "python",
   "pygments_lexer": "ipython3",
   "version": "3.5.5"
  }
 },
 "nbformat": 4,
 "nbformat_minor": 2
}
