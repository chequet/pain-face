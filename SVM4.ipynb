{
 "cells": [
  {
   "cell_type": "code",
   "execution_count": 1,
   "metadata": {},
   "outputs": [],
   "source": [
    "import warnings\n",
    "warnings.filterwarnings(\"ignore\", message=\"numpy.dtype size changed\")\n",
    "warnings.filterwarnings(\"ignore\", message=\"numpy.ufunc size changed\")\n",
    "from AAM import generate_capp, AAMfitter, generate_normcapps\n",
    "from setup import splitData\n",
    "from sklearn import svm\n",
    "import numpy as np\n",
    "%matplotlib inline\n"
   ]
  },
  {
   "cell_type": "code",
   "execution_count": 2,
   "metadata": {},
   "outputs": [],
   "source": [
    "#tr, trl, tst, tstl, aam = splitData('/Data/Images/')\n",
    "tr = np.load('newtr.npy')\n",
    "trl = np.load('newtrl.npy')\n",
    "tst = np.load('newtst.npy')\n",
    "tstl = np.load('newtstl.npy')\n",
    "aam = np.load('newaam.npy')\n"
   ]
  },
  {
   "cell_type": "code",
   "execution_count": 3,
   "metadata": {},
   "outputs": [],
   "source": [
    "# np.save('newtr.npy',tr)\n",
    "# np.save('newtrl.npy',trl)\n",
    "# np.save('newtst.npy',tst)\n",
    "# np.save('newtstl.npy',tstl)\n",
    "#np.save('newaam.npy', aam)\n"
   ]
  },
  {
   "cell_type": "code",
   "execution_count": 4,
   "metadata": {},
   "outputs": [
    {
     "name": "stdout",
     "output_type": "stream",
     "text": [
      "Now generating Active Appearance Model...\n",
      "- Computing reference shape                                                     Computing batch 0\n",
      "- Building modelsges size: [==========] 100% (1418/1418) - done.                \n",
      "  - Scale 0: Warping images: [          ] 4% (64/1418) - 00:00:02 remaining     maining"
     ]
    },
    {
     "name": "stderr",
     "output_type": "stream",
     "text": [
      "/home/ch283/anaconda3/envs/menpo/lib/python3.5/site-packages/menpofit/builder.py:338: MenpoFitModelBuilderWarning: The reference shape passed is not a TriMesh or subclass and therefore the reference frame (mask) will be calculated via a Delaunay triangulation. This may cause small triangles and thus suboptimal warps.\n",
      "  MenpoFitModelBuilderWarning)\n",
      "/home/ch283/anaconda3/envs/menpo/lib/python3.5/site-packages/menpo/image/boolean.py:711: FutureWarning: Using a non-tuple sequence for multidimensional indexing is deprecated; use `arr[tuple(seq)]` instead of `arr[seq]`. In the future this will be interpreted as an array index, `arr[np.array(seq)]`, which will result either in an error or a different result.\n",
      "  copy.pixels[slices].flat = point_in_pointcloud(pointcloud, indices)\n"
     ]
    },
    {
     "name": "stdout",
     "output_type": "stream",
     "text": [
      "  - Scale 0: Doneding appearance model                                          \n",
      "  - Scale 1: Doneding appearance model                                          \n",
      "                                                              Now generating fitter...\n"
     ]
    }
   ],
   "source": [
    "from menpofit.aam import HolisticAAM\n",
    "fitter = AAMfitter(aam, HolisticAAM)"
   ]
  },
  {
   "cell_type": "code",
   "execution_count": null,
   "metadata": {},
   "outputs": [
    {
     "name": "stdout",
     "output_type": "stream",
     "text": [
      "Generating canonical appearance vectors...\n"
     ]
    },
    {
     "name": "stderr",
     "output_type": "stream",
     "text": [
      "/home/ch283/anaconda3/envs/menpo/lib/python3.5/site-packages/menpo/shape/pointcloud.py:261: MenpoDeprecationWarning: The .lms property is deprecated. LandmarkGroups are now shapes themselves - so you can use them directly anywhere you previously used .lms.Simply remove \".lms\" from your code and things will work as expected (and this warning will go away)\n",
      "  MenpoDeprecationWarning)\n"
     ]
    },
    {
     "name": "stdout",
     "output_type": "stream",
     "text": [
      "[                    ] 0% 306/9663 "
     ]
    }
   ],
   "source": [
    "tr = list(tr)\n",
    "tst = list(tst)\n",
    "capps = generate_normcapps(fitter,tr)\n",
    "testcapps = generate_normcapps(fitter,tst)\n",
    "np.save('capps.npy',capps)\n",
    "np.save('testcapps.npy',testcapps)"
   ]
  },
  {
   "cell_type": "code",
   "execution_count": null,
   "metadata": {},
   "outputs": [],
   "source": [
    "clf = svm.SVC(gamma=0.001, C=100.)\n",
    "clf.fit(capps,trl)\n",
    "pred = clf.predict(testcapps)\n",
    "from sklearn.metrics import accuracy_score\n",
    "accuracy_score(tstl1,pred)"
   ]
  },
  {
   "cell_type": "code",
   "execution_count": null,
   "metadata": {},
   "outputs": [],
   "source": []
  }
 ],
 "metadata": {
  "kernelspec": {
   "display_name": "Python 3",
   "language": "python",
   "name": "python3"
  },
  "language_info": {
   "codemirror_mode": {
    "name": "ipython",
    "version": 3
   },
   "file_extension": ".py",
   "mimetype": "text/x-python",
   "name": "python",
   "nbconvert_exporter": "python",
   "pygments_lexer": "ipython3",
   "version": "3.5.5"
  }
 },
 "nbformat": 4,
 "nbformat_minor": 2
}
