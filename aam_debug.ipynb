{
 "cells": [
  {
   "cell_type": "code",
   "execution_count": 26,
   "metadata": {},
   "outputs": [],
   "source": [
    "import menpo.io as mio\n",
    "import numpy as np\n",
    "from menpo.shape import PointCloud \n",
    "from menpo.landmark import LandmarkManager, labeller\n",
    "from setup import process\n",
    "\n",
    "def landmarkConverter(filename):\n",
    "\tfile = open(filename, 'r')\n",
    "\tlms = file.read()\n",
    "\tlmsplit = lms.splitlines()\n",
    "\tcoords = []\n",
    "\tfor item in lmsplit:\n",
    "\t\titem = item.split()\n",
    "\t\tpoint = [float(item[1]),float(item[0])]\n",
    "\t\tcoords.append(point)\n",
    "\tfile.close()\n",
    "\tra = np.array(coords)\n",
    "\tpc = PointCloud(ra)\n",
    "\tprint(pc)\n",
    "\tlmm = LandmarkManager()\n",
    "\tlmm['landmarks'] = pc\n",
    "\tprint(lmm)\n",
    "\t\n",
    "\treturn lmm, pc"
   ]
  },
  {
   "cell_type": "code",
   "execution_count": 27,
   "metadata": {},
   "outputs": [
    {
     "name": "stdout",
     "output_type": "stream",
     "text": [
      "PointCloud: n_points: 66, n_dims: 2\n",
      "LandmarkManager: n_groups: 1\n",
      "(landmarks): PointCloud: n_points: 66, n_dims: 2\n",
      "PointCloud: n_points: 66, n_dims: 2\n",
      "LandmarkManager: n_groups: 1\n",
      "(landmarks): PointCloud: n_points: 66, n_dims: 2\n"
     ]
    },
    {
     "data": {
      "text/plain": [
       "True"
      ]
     },
     "execution_count": 27,
     "metadata": {},
     "output_type": "execute_result"
    }
   ],
   "source": [
    "lmm = landmarkConverter(\"/Data/AAM_landmarks/042-ll042/ll042t1aaaff/ll042t1aaaff001_aam.txt\")[0]\n",
    "pc = landmarkConverter(\"/Data/AAM_landmarks/042-ll042/ll042t1aaaff/ll042t1aaaff001_aam.txt\")[1]\n",
    "img = mio.import_image(\"/Data/Images/042-ll042/ll042t1aaaff/ll042t1aaaff001.png\")\n",
    "img = img.as_greyscale()\n",
    "d = img.diagonal()\n",
    "if d > 400:\n",
    "    img = img.rescale(400.0 / d)\n",
    "img.landmarks = lmm\n",
    "img.has_landmarks"
   ]
  },
  {
   "cell_type": "code",
   "execution_count": 37,
   "metadata": {},
   "outputs": [
    {
     "name": "stdout",
     "output_type": "stream",
     "text": [
      "Found 187 assets, index the returned LazyList to import.\n",
      "Found 168 assets, index the returned LazyList to import.\n",
      "Found 143 assets, index the returned LazyList to import.\n",
      "Found 350 assets, index the returned LazyList to import.\n",
      "Found 320 assets, index the returned LazyList to import.\n",
      "Found 155 assets, index the returned LazyList to import.\n",
      "Found 128 assets, index the returned LazyList to import.\n",
      "Found 683 assets, index the returned LazyList to import.\n"
     ]
    },
    {
     "data": {
      "text/plain": [
       "2134"
      ]
     },
     "execution_count": 37,
     "metadata": {},
     "output_type": "execute_result"
    }
   ],
   "source": [
    "from os import walk\n",
    "trainingpaths = []\n",
    "trainingimgs = []\n",
    "for root, dirs, files in walk('/Data/Images/042-ll042/'):\n",
    "    if len(files)>0:\n",
    "        trainingpaths.append(root)\n",
    "for path in trainingpaths:\n",
    "    images = mio.import_images(path, verbose=True)\n",
    "    images = images.map(process)\n",
    "    trainingimgs+= images\n",
    "len(trainingimgs)"
   ]
  },
  {
   "cell_type": "markdown",
   "metadata": {},
   "source": []
  },
  {
   "cell_type": "code",
   "execution_count": null,
   "metadata": {},
   "outputs": [],
   "source": [
    "\n"
   ]
  },
  {
   "cell_type": "code",
   "execution_count": null,
   "metadata": {},
   "outputs": [],
   "source": []
  },
  {
   "cell_type": "code",
   "execution_count": null,
   "metadata": {},
   "outputs": [],
   "source": []
  }
 ],
 "metadata": {
  "kernelspec": {
   "display_name": "Python 3",
   "language": "python",
   "name": "python3"
  },
  "language_info": {
   "codemirror_mode": {
    "name": "ipython",
    "version": 3
   },
   "file_extension": ".py",
   "mimetype": "text/x-python",
   "name": "python",
   "nbconvert_exporter": "python",
   "pygments_lexer": "ipython3",
   "version": "3.5.5"
  }
 },
 "nbformat": 4,
 "nbformat_minor": 2
}
